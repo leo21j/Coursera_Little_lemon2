{
 "cells": [
  {
   "cell_type": "code",
   "execution_count": 13,
   "id": "a8cab1fe",
   "metadata": {
    "scrolled": false
   },
   "outputs": [
    {
     "name": "stdout",
     "output_type": "stream",
     "text": [
      "Requirement already satisfied: mysql-connector-python in c:\\users\\aorus\\appdata\\local\\programs\\python\\python310\\lib\\site-packages (8.0.32)\n",
      "Requirement already satisfied: protobuf<=3.20.3,>=3.11.0 in c:\\users\\aorus\\appdata\\local\\programs\\python\\python310\\lib\\site-packages (from mysql-connector-python) (3.20.3)\n"
     ]
    },
    {
     "name": "stderr",
     "output_type": "stream",
     "text": [
      "WARNING: You are using pip version 22.0.4; however, version 23.1.2 is available.\n",
      "You should consider upgrading via the 'C:\\Users\\AORUS\\AppData\\Local\\Programs\\Python\\Python310\\python.exe -m pip install --upgrade pip' command.\n"
     ]
    }
   ],
   "source": [
    "!pip install mysql-connector-python\n",
    "import mysql.connector as connector"
   ]
  },
  {
   "cell_type": "code",
   "execution_count": 14,
   "id": "9adb9d18",
   "metadata": {
    "scrolled": true
   },
   "outputs": [
    {
     "name": "stdout",
     "output_type": "stream",
     "text": [
      "Connection between MySQL and Python is established.\n",
      "\n"
     ]
    }
   ],
   "source": [
    "try: \n",
    "    connection=connector.connect(host=\"localhost\",    \n",
    "                             user=\"host\", # use your own\n",
    "                             password=\"host1\", # use your own\n",
    "                             port= 3307,\n",
    "                             use_pure=True\n",
    "                             )\n",
    "    print(\"Connection between MySQL and Python is established.\\n\")\n",
    "except connector.Error as er:\n",
    "    print(\"Error code: \", er.errno)\n",
    "    print(\"Error message: \", er.msg)\n",
    "    "
   ]
  },
  {
   "cell_type": "code",
   "execution_count": 15,
   "id": "aa6e0dd9",
   "metadata": {
    "scrolled": true
   },
   "outputs": [
    {
     "name": "stdout",
     "output_type": "stream",
     "text": [
      "Cursor is created to communicate with the MySQL using Python.\n",
      "\n",
      "The database capstone_lil_lemon2 is created.\n",
      "\n"
     ]
    }
   ],
   "source": [
    "cursor = connection.cursor(buffered=True)\n",
    "print(\"Cursor is created to communicate with the MySQL using Python.\\n\")\n",
    "\n",
    "try:\n",
    "    cursor.execute(\"CREATE DATABASE capstone_lil_lemon2\")\n",
    "except:\n",
    "    cursor.execute(\"drop database capstone_lil_lemon2\")\n",
    "    cursor.execute(\"CREATE DATABASE capstone_lil_lemon2\")\n",
    "print(\"The database capstone_lil_lemon2 is created.\\n\")\n",
    "cursor.execute(\"USE capstone_lil_lemon2\")"
   ]
  },
  {
   "cell_type": "code",
   "execution_count": 16,
   "id": "14901761",
   "metadata": {},
   "outputs": [
    {
     "name": "stdout",
     "output_type": "stream",
     "text": [
      "Menuitem table was created\n",
      "Menu table was created\n",
      "Employees table was created\n",
      "Customers table was created\n",
      "Bookings table was created\n",
      "Orders table was created\n",
      "Status table was created\n",
      "All tables were created\n"
     ]
    }
   ],
   "source": [
    "# MenuItem table\n",
    "create_menuitem_table=\"\"\"\n",
    "CREATE TABLE MenuItems (\n",
    "ItemID INT AUTO_INCREMENT,\n",
    "MenuName VARCHAR(200) NOT NULL,\n",
    "MenuType VARCHAR(200) NOT NULL,\n",
    "Price Decimal(10,2),\n",
    "PRIMARY KEY (ItemID)\n",
    ");\"\"\"\n",
    "\n",
    "cursor.execute(create_menuitem_table)\n",
    "print(\"Menuitem table was created\")\n",
    "\n",
    "\n",
    "# Menu table \n",
    "create_menu_table=\"\"\"\n",
    "CREATE TABLE Menus (\n",
    "MenuID INT,\n",
    "ItemID INT,\n",
    "Cuisine VARCHAR(100),\n",
    "PRIMARY KEY (MenuID),\n",
    "FOREIGN KEY (ItemID) REFERENCES MenuItems(ItemID)\n",
    ");\"\"\"\n",
    "\n",
    "cursor.execute(create_menu_table)\n",
    "print(\"Menu table was created\")\n",
    "\n",
    "\n",
    "#Employees table\n",
    "create_employees_table= \"\"\"\n",
    "CREATE TABLE Employees (\n",
    "EmployeesID INT AUTO_INCREMENT,\n",
    "Role VARCHAR(50),\n",
    "Salary DECIMAL(10,2),\n",
    "PRIMARY KEY(EmployeesID)\n",
    ");\"\"\"\n",
    "\n",
    "\n",
    "cursor.execute(create_employees_table)\n",
    "print(\"Employees table was created\")\n",
    "\n",
    "\n",
    "# Customers table \n",
    "create_customer_table=\"\"\"\n",
    "CREATE TABLE Customers (\n",
    "CustomerID INT,\n",
    "GuestFirstName VARCHAR(100),\n",
    "GuestLastName VARCHAR(100),\n",
    "Email VARCHAR(45)\n",
    ");\"\"\"\n",
    "\n",
    "cursor.execute(create_customer_table)\n",
    "print(\"Customers table was created\")\n",
    "\n",
    "\n",
    "# Bookings table \n",
    "create_booking_table=\"\"\"\n",
    "CREATE TABLE Bookings (\n",
    "BookingID INT AUTO_INCREMENT,\n",
    "BookingDate DATE,\n",
    "TableNo INT,\n",
    "EmployeesID INT,\n",
    "CustomerID INT,\n",
    "PRIMARY KEY(BookingID),\n",
    "FOREIGN KEY (EmployeesID) REFERENCES Employees(EmployeesID)\n",
    ");\"\"\"\n",
    "\n",
    "cursor.execute(create_booking_table)\n",
    "print(\"Bookings table was created\")\n",
    "\n",
    "# Orders table\n",
    "create_orders_table=\"\"\"\n",
    "CREATE TABLE Orders (\n",
    "OrderID INT AUTO_INCREMENT,\n",
    "CustomerID INT,\n",
    "ItemID INT,\n",
    "OrderDate DATE,\n",
    "BookingID INT,\n",
    "Quantity INT,\n",
    "BillAmount INT,\n",
    "PRIMARY KEY (OrderID),\n",
    "FOREIGN KEY (ItemID) REFERENCES MenuItems(ItemID)\n",
    ");\"\"\"\n",
    "\n",
    "cursor.execute(create_orders_table)\n",
    "print(\"Orders table was created\")\n",
    "\n",
    "\n",
    "\n",
    "\n",
    "#Status table\n",
    "create_status_table= \"\"\"\n",
    "CREATE TABLE Status (\n",
    "StatusID INT,\n",
    "OrderID INT,\n",
    "Status VARCHAR(100),\n",
    "PRIMARY KEY(StatusID),\n",
    "FOREIGN KEY (OrderID) REFERENCES Orders(OrderID)\n",
    ");\"\"\"\n",
    "\n",
    "\n",
    "cursor.execute(create_status_table)\n",
    "print(\"Status table was created\")\n",
    "\n",
    "print(\"All tables were created\")"
   ]
  },
  {
   "cell_type": "code",
   "execution_count": 17,
   "id": "ec24d05e",
   "metadata": {
    "scrolled": true
   },
   "outputs": [
    {
     "name": "stdout",
     "output_type": "stream",
     "text": [
      "Values inserted into MenuItems\n",
      "Values inserted into Menu\n",
      "Values inserted into Employees\n",
      "Values inserted into Customers\n",
      "Values inserted into Bookings\n",
      "Values inserted into Orders\n",
      "Values inserted into Status\n"
     ]
    }
   ],
   "source": [
    "#Inserting into MenuItem\n",
    "insert_menuitems=\"\"\"\n",
    "INSERT INTO MenuItems (ItemID, MenuName, MenuType, Price)\n",
    "VALUES\n",
    "(1, 'Gelato','Dessert',15),\n",
    "(2, 'Tequila','Drinks', 25),\n",
    "(3, 'Fries', 'Appetizer', 25),\n",
    "(4, 'Tacos','Appetizer', 30),\n",
    "(5, 'Salmon', 'Fish', 45),\n",
    "(6, 'Ribs','Meals', 45),\n",
    "(7, 'BBQ Wings', 'Meals', 45)\n",
    ";\"\"\"\n",
    "\n",
    "cursor.execute(insert_menuitems)\n",
    "connection.commit()\n",
    "print(\"Values inserted into MenuItems\")\n",
    "\n",
    "#Inserting into Menu\n",
    "insert_menu=\"\"\"\n",
    "INSERT INTO Menus (MenuID,ItemID,Cuisine)\n",
    "VALUES\n",
    "(1, 1, 'Italian'),\n",
    "(2, 2, 'Mexican'),\n",
    "(3, 3, 'French'),\n",
    "(4, 4, 'Mexican'),\n",
    "(5, 5, 'Italian'),\n",
    "(6, 6, 'American'),\n",
    "(7, 7, 'American')\n",
    ";\"\"\"\n",
    "\n",
    "cursor.execute(insert_menu)\n",
    "connection.commit()\n",
    "print(\"Values inserted into Menu\")\n",
    "\n",
    "\n",
    "#Inserting into Employees\n",
    "insert_employees = \"\"\"\n",
    "INSERT INTO Employees (EmployeesID, Role, Salary)\n",
    "VALUES\n",
    "(10,\"Chef\",75000),\n",
    "(11,\"Waiter\", 55000),\n",
    "(12,\"Waiter\",55000),\n",
    "(13,\"Chef Assistant\", 60000)\n",
    "\n",
    ";\"\"\"\n",
    "cursor.execute(insert_employees)\n",
    "connection.commit()\n",
    "print(\"Values inserted into Employees\")\n",
    "\n",
    "#Inserting into Customers\n",
    "insert_customers = \"\"\"\n",
    "INSERT INTO Customers (CustomerID, GuestFirstName, GuestLastName,Email)\n",
    "VALUES\n",
    "(1,\"Alaric\",\"Wood\",\"ric_alaric@gmail.com\"),\n",
    "(2,\"Landon\",\"Declan\",\"landon@gmail.com\"),\n",
    "(3,\"Mike\",\"Ross\",\"mike_ross@gmail.com\"),\n",
    "(4,\"Harvey\",\"Specter\",\"hspecter@gmail.com\"),\n",
    "(5,\"Rachel\",\"Cook\",\"rachelc@gmail.com\")\n",
    "\n",
    ";\"\"\"\n",
    "cursor.execute(insert_customers)\n",
    "connection.commit()\n",
    "print(\"Values inserted into Customers\")\n",
    "\n",
    "#Inserting into Bookings\n",
    "insert_bookings=\"\"\"\n",
    "INSERT INTO Bookings (BookingID, BookingDate,TableNo,EmployeesID,CustomerID)\n",
    "VALUES\n",
    "(1, \"2022-10-10\", 5,10,1),\n",
    "(2, \"2022-11-12\", 3,10,3),\n",
    "(3, \"2022-10-30\", 2,11,2),\n",
    "(4, \"2022-10-13\", 10,12,5),\n",
    "(5, \"2022-10-10\", 5,10,1)\n",
    ";\"\"\"\n",
    "cursor.execute(insert_bookings)\n",
    "connection.commit()\n",
    "print(\"Values inserted into Bookings\")\n",
    "\n",
    "#Inserting into Orders\n",
    "insert_orders=\"\"\"\n",
    "INSERT INTO Orders (OrderID, CustomerID, ItemID, OrderDate, Quantity, BillAmount)\n",
    "VALUES\n",
    "(1, 1, 1, \"2022-10-30\", 2, 30),\n",
    "(2, 3, 5, \"2023-10-30\", 4, 180),\n",
    "(3, 2, 4, \"2023-10-30\", 1, 30),\n",
    "(4, 2, 1, \"2023-10-30\", 1, 15),\n",
    "(5, 5, 6, \"2023-10-30\", 2, 90)\n",
    ";\"\"\"\n",
    "\n",
    "cursor.execute(insert_orders)\n",
    "connection.commit()\n",
    "print(\"Values inserted into Orders\")\n",
    "\n",
    "#Inserting into Status\n",
    "insert_status=\"\"\"\n",
    "INSERT INTO Status (StatusID, OrderID, Status)\n",
    "VALUES\n",
    "(10,1,\"Served\"),\n",
    "(11,2,\"Preparing\"),\n",
    "(12,3,\"Served\"),\n",
    "(13,4,\"Served\"),\n",
    "(14,5,\"Preparing\")\n",
    "\n",
    ";\"\"\"\n",
    "\n",
    "cursor.execute(insert_status)\n",
    "connection.commit()\n",
    "print(\"Values inserted into Status\")\n",
    "\n",
    "\n",
    "\n"
   ]
  },
  {
   "cell_type": "code",
   "execution_count": 20,
   "id": "9fb289e6",
   "metadata": {},
   "outputs": [
    {
     "name": "stdout",
     "output_type": "stream",
     "text": [
      "REPORT\n"
     ]
    }
   ],
   "source": [
    "print(\"REPORT\")"
   ]
  },
  {
   "cell_type": "code",
   "execution_count": 32,
   "id": "8989d9d5",
   "metadata": {
    "scrolled": true
   },
   "outputs": [
    {
     "ename": "InterfaceError",
     "evalue": "No result set to fetch from",
     "output_type": "error",
     "traceback": [
      "\u001b[1;31m---------------------------------------------------------------------------\u001b[0m",
      "\u001b[1;31mInterfaceError\u001b[0m                            Traceback (most recent call last)",
      "Cell \u001b[1;32mIn[32], line 14\u001b[0m\n\u001b[0;32m     11\u001b[0m cursor\u001b[38;5;241m.\u001b[39mexecute(OrdersView)\n\u001b[0;32m     13\u001b[0m \u001b[38;5;66;03m# We can see that we've created the view\u001b[39;00m\n\u001b[1;32m---> 14\u001b[0m results \u001b[38;5;241m=\u001b[39m \u001b[43mcursor\u001b[49m\u001b[38;5;241;43m.\u001b[39;49m\u001b[43mfetchall\u001b[49m\u001b[43m(\u001b[49m\u001b[43m)\u001b[49m\n\u001b[0;32m     15\u001b[0m \u001b[38;5;28mprint\u001b[39m(cursor\u001b[38;5;241m.\u001b[39mcolumn_names)\n\u001b[0;32m     16\u001b[0m \u001b[38;5;28;01mfor\u001b[39;00m result \u001b[38;5;129;01min\u001b[39;00m results:\n",
      "File \u001b[1;32m~\\AppData\\Local\\Programs\\Python\\Python310\\lib\\site-packages\\mysql\\connector\\cursor.py:1118\u001b[0m, in \u001b[0;36mMySQLCursorBuffered.fetchall\u001b[1;34m(self)\u001b[0m\n\u001b[0;32m   1112\u001b[0m \u001b[38;5;250m\u001b[39m\u001b[38;5;124;03m\"\"\"Return all rows of a query result set.\u001b[39;00m\n\u001b[0;32m   1113\u001b[0m \n\u001b[0;32m   1114\u001b[0m \u001b[38;5;124;03mReturns:\u001b[39;00m\n\u001b[0;32m   1115\u001b[0m \u001b[38;5;124;03m    list: A list of tuples with all rows of a query result set.\u001b[39;00m\n\u001b[0;32m   1116\u001b[0m \u001b[38;5;124;03m\"\"\"\u001b[39;00m\n\u001b[0;32m   1117\u001b[0m \u001b[38;5;28;01mif\u001b[39;00m \u001b[38;5;28mself\u001b[39m\u001b[38;5;241m.\u001b[39m_executed \u001b[38;5;129;01mis\u001b[39;00m \u001b[38;5;28;01mNone\u001b[39;00m \u001b[38;5;129;01mor\u001b[39;00m \u001b[38;5;28mself\u001b[39m\u001b[38;5;241m.\u001b[39m_rows \u001b[38;5;129;01mis\u001b[39;00m \u001b[38;5;28;01mNone\u001b[39;00m:\n\u001b[1;32m-> 1118\u001b[0m     \u001b[38;5;28;01mraise\u001b[39;00m InterfaceError(ERR_NO_RESULT_TO_FETCH)\n\u001b[0;32m   1119\u001b[0m res \u001b[38;5;241m=\u001b[39m []\n\u001b[0;32m   1120\u001b[0m res \u001b[38;5;241m=\u001b[39m \u001b[38;5;28mself\u001b[39m\u001b[38;5;241m.\u001b[39m_rows[\u001b[38;5;28mself\u001b[39m\u001b[38;5;241m.\u001b[39m_next_row :]\n",
      "\u001b[1;31mInterfaceError\u001b[0m: No result set to fetch from"
     ]
    }
   ],
   "source": [
    "\"\"\"ORDERSVIEW\"\"\"\n",
    "cursor.execute(\"DROP VIEW IF EXISTS ordersview;\")\n",
    "\n",
    "# The query that creates the OrdersView view.\n",
    "OrdersView = \"\"\"\n",
    "    CREATE VIEW OrdersView AS \n",
    "    SELECT OrderID, Quantity, BillAmount FROM Orders\n",
    "    WHERE Quantity > 2\n",
    "    ;\n",
    "\"\"\"\n",
    "# Execute the query\n",
    "cursor.execute(OrdersView)\n",
    "\n",
    "# We can see that we've created the view\n",
    "results = cursor.fetchall()\n",
    "print(cursor.column_names)\n",
    "for result in results:\n",
    "    print(result)\n",
    "\n"
   ]
  },
  {
   "cell_type": "code",
   "execution_count": 33,
   "id": "07a81c5e",
   "metadata": {},
   "outputs": [
    {
     "name": "stdout",
     "output_type": "stream",
     "text": [
      "('OrderID', 'Quantity', 'BillAmount')\n",
      "(2, 4, 180)\n"
     ]
    }
   ],
   "source": [
    "cursor.execute(\"\"\"SELECT * FROM OrdersView;\"\"\")\n",
    "\n",
    "# Retrieving records\n",
    "results = cursor.fetchall()\n",
    "\n",
    "# Retrieving the column names and printing the data\n",
    "print(cursor.column_names)\n",
    "for result in results:\n",
    "    print(result)"
   ]
  },
  {
   "cell_type": "code",
   "execution_count": 34,
   "id": "119cb9d7",
   "metadata": {},
   "outputs": [
    {
     "data": {
      "text/plain": [
       "'Now Lets Say client needs to know the info from all customers with orders that cost > 150'"
      ]
     },
     "execution_count": 34,
     "metadata": {},
     "output_type": "execute_result"
    }
   ],
   "source": [
    "\"\"\"Now Lets Say client needs to know the info from all customers with orders that cost > 150\"\"\""
   ]
  },
  {
   "cell_type": "code",
   "execution_count": 40,
   "id": "a5dbb922",
   "metadata": {
    "scrolled": false
   },
   "outputs": [
    {
     "name": "stdout",
     "output_type": "stream",
     "text": [
      "('CustomerID', 'FullName', 'OrderID', 'Cuisine', 'MenuName', 'MenuType', 'BillAmount')\n"
     ]
    }
   ],
   "source": [
    "more= \"\"\"\n",
    "    SELECT Customers.CustomerID, CONCAT(Customers.GuestFirstName, \" \",Customers.GuestLastName) AS FullName, Orders.OrderID, Menus.Cuisine, MenuItems.MenuName, MenuItems.MenuType, Orders.BillAmount FROM Customers\n",
    "    INNER JOIN Bookings\n",
    "    ON Customers.CustomerID = Bookings.CustomerID\n",
    "    INNER JOIN Orders\n",
    "    ON Bookings.BookingID = Orders.BookingID\n",
    "    INNER JOIN Menus\n",
    "    ON Orders.ItemID = Menus.ItemID\n",
    "    INNER JOIN MenuItems on MenuItems.ItemID= Menus.ItemID\n",
    "    WHERE Orders.BillAmount > 150\n",
    "    ;\n",
    "\"\"\"\n",
    "# Execute the query and retrieving records\n",
    "cursor.execute(more)\n",
    "results = cursor.fetchall()\n",
    "\n",
    "# Retrieving the column names and printing the data\n",
    "print(cursor.column_names)\n",
    "for result in results:\n",
    "    print(result)"
   ]
  },
  {
   "cell_type": "code",
   "execution_count": 41,
   "id": "72e73af2",
   "metadata": {},
   "outputs": [
    {
     "data": {
      "text/plain": [
       "'Minimun of two Orders'"
      ]
     },
     "execution_count": 41,
     "metadata": {},
     "output_type": "execute_result"
    }
   ],
   "source": [
    "\"\"\"Minimun of two Orders\"\"\""
   ]
  },
  {
   "cell_type": "code",
   "execution_count": 44,
   "id": "b7dfe672",
   "metadata": {},
   "outputs": [
    {
     "name": "stdout",
     "output_type": "stream",
     "text": [
      "('MenuName', 'MenuType')\n",
      "('Salmon', 'Fish')\n"
     ]
    }
   ],
   "source": [
    "# The query to extract the information.\n",
    "twoorders = \"\"\"\n",
    "    SELECT MenuName, MenuType FROM MenuItems\n",
    "    WHERE ItemID = ANY (SELECT ItemID FROM Orders\n",
    "\t                    WHERE Quantity > 2)\n",
    "   ;\n",
    "\"\"\"\n",
    "# Execute the query and retrieving records\n",
    "cursor.execute(twoorders)\n",
    "results = cursor.fetchall()\n",
    "\n",
    "# Retrieving the column names and printing the data\n",
    "print(cursor.column_names)\n",
    "for result in results:\n",
    "    print(result)"
   ]
  },
  {
   "cell_type": "code",
   "execution_count": 45,
   "id": "f0885b60",
   "metadata": {},
   "outputs": [
    {
     "data": {
      "text/plain": [
       "'STORED PROCEDURES'"
      ]
     },
     "execution_count": 45,
     "metadata": {},
     "output_type": "execute_result"
    }
   ],
   "source": [
    "\"\"\"STORED PROCEDURES\"\"\"\n"
   ]
  },
  {
   "cell_type": "code",
   "execution_count": 46,
   "id": "2aac6448",
   "metadata": {},
   "outputs": [
    {
     "name": "stdout",
     "output_type": "stream",
     "text": [
      "['Max Quantity in Orders']\n",
      "(4,)\n"
     ]
    }
   ],
   "source": [
    "#GetMaxQuantity\n",
    "cursor.execute(\"DROP PROCEDURE IF EXISTS GetMaxQuantity;\")\n",
    "\n",
    "# Creating the procedure\n",
    "GetMaxQuantity = \"\"\"\n",
    "    CREATE PROCEDURE GetMaxQuantity()\n",
    "    BEGIN\n",
    "        SELECT MAX(Quantity) AS 'Max Quantity in Orders' FROM Orders;\n",
    "    END\n",
    "\"\"\"\n",
    "# Execute the query\n",
    "cursor.execute(GetMaxQuantity)\n",
    "\n",
    "# Calling the store procedure\n",
    "cursor.callproc('GetMaxQuantity')\n",
    "\n",
    "# Retrieving records in a dataset\n",
    "results = next(cursor.stored_results())\n",
    "dataset = results.fetchall()\n",
    "\n",
    "# Retrieve column names using list comprehension in a 'for' loop \n",
    "for column_id in cursor.stored_results():\n",
    "    columns = [ column[0] for column in column_id.description ]\n",
    "\n",
    "# Print column names\n",
    "print(columns)\n",
    "\n",
    "# Print data\n",
    "for data in dataset:\n",
    "    print(data)\n"
   ]
  },
  {
   "cell_type": "code",
   "execution_count": 48,
   "id": "94622c50",
   "metadata": {},
   "outputs": [
    {
     "name": "stdout",
     "output_type": "stream",
     "text": [
      "['Confirmation']\n",
      "('Order 2222 is cancelled',)\n"
     ]
    }
   ],
   "source": [
    "#Cancel ORDER\n",
    "cursor.execute(\"DROP PROCEDURE IF EXISTS CancelOrder;\")\n",
    "\n",
    "# Creating the procedure\n",
    "CancelOrder = \"\"\"\n",
    "    CREATE PROCEDURE CancelOrder(IN order_id INT)\n",
    "    BEGIN\n",
    "        DELETE FROM Orders WHERE OrderID = order_id;\n",
    "        SELECT CONCAT(\"Order \", order_id , \" is cancelled\") AS Confirmation;\n",
    "    END\n",
    "\"\"\"\n",
    "# Execute the query\n",
    "cursor.execute(CancelOrder)\n",
    "\n",
    "# Calling the store procedure\n",
    "cursor.callproc('CancelOrder', (2222,))\n",
    "\n",
    "# Rretrieving records in a dataset\n",
    "results = next(cursor.stored_results())\n",
    "dataset = results.fetchall()\n",
    "\n",
    "# Retrieve column names using list comprehension in a 'for' loop \n",
    "for column_id in cursor.stored_results():\n",
    "    columns = [ column[0] for column in column_id.description ]\n",
    "\n",
    "# Print column names\n",
    "print(columns)\n",
    "\n",
    "# Print data\n",
    "for data in dataset:\n",
    "    print(data)\n",
    "\n"
   ]
  },
  {
   "cell_type": "code",
   "execution_count": 50,
   "id": "21f036ff",
   "metadata": {},
   "outputs": [
    {
     "name": "stdout",
     "output_type": "stream",
     "text": [
      "['Bookings status']\n",
      "('Table 2 is already booked',)\n"
     ]
    }
   ],
   "source": [
    "#CheckBooking\n",
    "cursor.execute(\"DROP PROCEDURE IF EXISTS CheckBooking;\")\n",
    "\n",
    "# Creating the procedure\n",
    "CheckBooking  = \"\"\"\n",
    "    CREATE PROCEDURE CheckBooking (IN booking_date DATE, IN table_number INT)\n",
    "    BEGIN\n",
    "        IF (SELECT COUNT(*) FROM Bookings WHERE BookingDate = booking_date AND TableNo = table_number) > 0 THEN\n",
    "            SELECT CONCAT ('Table ', table_number , ' is already booked') AS 'Bookings status';\n",
    "        ELSE\n",
    "            SELECT CONCAT ('Table ', table_number , ' available') AS 'Bookings status';\n",
    "        END IF;\n",
    "    END\n",
    "\"\"\"\n",
    "# Execute the query\n",
    "cursor.execute(CheckBooking)\n",
    "\n",
    "# Calling the store procedure\n",
    "cursor.callproc('CheckBooking', ('2022-10-30', 2))\n",
    "\n",
    "# Rretrieving records in a dataset\n",
    "results = next(cursor.stored_results())\n",
    "dataset = results.fetchall()\n",
    "\n",
    "# Retrieve column names using list comprehension in a 'for' loop \n",
    "for column_id in cursor.stored_results():\n",
    "    columns = [ column[0] for column in column_id.description ]\n",
    "\n",
    "# Print column names\n",
    "print(columns)\n",
    "\n",
    "# Print data\n",
    "for data in dataset:\n",
    "    print(data)\n"
   ]
  },
  {
   "cell_type": "code",
   "execution_count": 51,
   "id": "b3865475",
   "metadata": {},
   "outputs": [
    {
     "data": {
      "text/plain": [
       "'Lets try with a booking that doesnt exists'"
      ]
     },
     "execution_count": 51,
     "metadata": {},
     "output_type": "execute_result"
    }
   ],
   "source": [
    "\"\"\"Lets try with a booking that doesnt exists\"\"\"\n"
   ]
  },
  {
   "cell_type": "code",
   "execution_count": 52,
   "id": "69148ab4",
   "metadata": {},
   "outputs": [
    {
     "name": "stdout",
     "output_type": "stream",
     "text": [
      "['Bookings status']\n",
      "('Table 1 available',)\n"
     ]
    }
   ],
   "source": [
    "# Now if we try with a booking that doesn't exist\n",
    "cursor.callproc('CheckBooking', ('2023-07-04', 1))\n",
    "\n",
    "# Rretrieving records in a dataset\n",
    "results = next(cursor.stored_results())\n",
    "dataset = results.fetchall()\n",
    "\n",
    "# Retrieve column names using list comprehension in a 'for' loop \n",
    "for column_id in cursor.stored_results():\n",
    "    columns = [ column[0] for column in column_id.description ]\n",
    "\n",
    "# Print column names\n",
    "print(columns)\n",
    "\n",
    "# Print data\n",
    "for data in dataset:\n",
    "    print(data)"
   ]
  },
  {
   "cell_type": "code",
   "execution_count": 66,
   "id": "4a85db81",
   "metadata": {},
   "outputs": [
    {
     "name": "stdout",
     "output_type": "stream",
     "text": [
      "['Booking status']\n",
      "('Table number 15 is already booked - booking cancelled',)\n"
     ]
    }
   ],
   "source": [
    "#Add Booking\n",
    "cursor.execute(\"DROP PROCEDURE IF EXISTS AddValidBooking;\")\n",
    "\n",
    "# Creating the procedure\n",
    "AddValidBooking  = \"\"\"\n",
    "    CREATE PROCEDURE AddValidBooking (IN BookingID INT, IN customer_id varchar(255), IN booking_date DATE, IN table_number INT, IN employees_id INT)\n",
    "    BEGIN\n",
    "        START TRANSACTION;\n",
    "            INSERT INTO Bookings(BookingID, BookingDate, TableNo,EmployeesID,CustomerID) VALUES(BookingID, booking_date, table_number,employees_id,customer_id);\n",
    "        IF (SELECT COUNT(*) FROM Bookings WHERE BookingDate = booking_date AND TableNo = table_number) = 0 \n",
    "            THEN\n",
    "            COMMIT;\n",
    "            SELECT CONCAT('Table number ', table_number, ' is now booked for the ', booking_date, ' booking successful') AS 'Booking status';\n",
    "        ELSE\n",
    "            ROLLBACK;\n",
    "\t\t\tSELECT CONCAT('Table number ', table_number, ' is already booked - booking cancelled') AS 'Booking status';\n",
    "        END IF;\n",
    "    END\n",
    "\"\"\"\n",
    "# Execute the query\n",
    "cursor.execute(AddValidBooking)\n",
    "\n",
    "# Calling the store procedure\n",
    "cursor.callproc('AddValidBooking', (7,17,'2022-11-14',15,10))\n",
    "\n",
    "# Rretrieving records in a dataset\n",
    "results = next(cursor.stored_results())\n",
    "dataset = results.fetchall()\n",
    "\n",
    "# Retrieve column names using list comprehension in a 'for' loop \n",
    "for column_id in cursor.stored_results():\n",
    "    columns = [ column[0] for column in column_id.description ]\n",
    "\n",
    "# Print column names\n",
    "print(columns)\n",
    "\n",
    "# Print data\n",
    "for data in dataset:\n",
    "    print(data)\n"
   ]
  },
  {
   "cell_type": "code",
   "execution_count": 69,
   "id": "28817817",
   "metadata": {},
   "outputs": [
    {
     "name": "stdout",
     "output_type": "stream",
     "text": [
      "['Confirmation']\n",
      "('Booking 1 updated',)\n"
     ]
    }
   ],
   "source": [
    "#Update Booking\n",
    "cursor.execute(\"DROP PROCEDURE IF EXISTS UpdateBooking;\")\n",
    "\n",
    "# Creating the procedure\n",
    "UpdateBooking  = \"\"\"\n",
    "    CREATE PROCEDURE UpdateBooking (IN booking_id INT, IN booking_date VARCHAR(255))\n",
    "    BEGIN\n",
    "        DECLARE subqu INT;\n",
    "        SELECT COUNT(*) INTO subqu FROM Bookings \n",
    "\t\t\tWHERE BookingID = booking_id;\n",
    "        IF subqu = 1 THEN\n",
    "            UPDATE Bookings SET BookingDate = booking_date WHERE BookingID = booking_id;\n",
    "\t\t\tSELECT CONCAT('Booking ', booking_id , ' updated') AS 'Confirmation';\n",
    "        ELSE\n",
    "\t\t\tSELECT CONCAT('Booking ', booking_id , ' does not exist') AS 'Confirmation';\n",
    "        END IF;\n",
    "    END\n",
    "\"\"\"\n",
    "# Execute the query\n",
    "cursor.execute(UpdateBooking)\n",
    "\n",
    "# Calling the store procedure\n",
    "cursor.callproc('UpdateBooking', (1,'2022-08-14'))\n",
    "\n",
    "# Rretrieving records in a dataset\n",
    "results = next(cursor.stored_results())\n",
    "dataset = results.fetchall()\n",
    "\n",
    "# Retrieve column names using list comprehension in a 'for' loop \n",
    "for column_id in cursor.stored_results():\n",
    "    columns = [ column[0] for column in column_id.description ]\n",
    "\n",
    "# Print column names\n",
    "print(columns)\n",
    "\n",
    "# Print data\n",
    "for data in dataset:\n",
    "    print(data)"
   ]
  },
  {
   "cell_type": "code",
   "execution_count": 71,
   "id": "c7358b1b",
   "metadata": {},
   "outputs": [
    {
     "name": "stdout",
     "output_type": "stream",
     "text": [
      "['Confirmation']\n",
      "('Booking 100 does not exist',)\n"
     ]
    }
   ],
   "source": [
    "\n",
    "# Now if we try with a booking that doesn't exist\n",
    "cursor.callproc('UpdateBooking', (100,'2023-10-14'))\n",
    "\n",
    "# Rretrieving records in a dataset\n",
    "results = next(cursor.stored_results())\n",
    "dataset = results.fetchall()\n",
    "\n",
    "# Retrieve column names using list comprehension in a 'for' loop \n",
    "for column_id in cursor.stored_results():\n",
    "    columns = [ column[0] for column in column_id.description ]\n",
    "\n",
    "# Print column names\n",
    "print(columns)\n",
    "\n",
    "# Print data\n",
    "for data in dataset:\n",
    "    print(data)"
   ]
  },
  {
   "cell_type": "code",
   "execution_count": 74,
   "id": "d12c8a58",
   "metadata": {},
   "outputs": [
    {
     "name": "stdout",
     "output_type": "stream",
     "text": [
      "['Confirmation']\n",
      "('Booking 1 cancelled',)\n"
     ]
    }
   ],
   "source": [
    "#CancelBooking\n",
    "cursor.execute(\"DROP PROCEDURE IF EXISTS CancelBooking;\")\n",
    "\n",
    "# Creating the procedure\n",
    "CancelBooking  = \"\"\"\n",
    "    CREATE PROCEDURE CancelBooking (IN booking_id INT)\n",
    "    BEGIN\n",
    "        DECLARE subqu INT;\n",
    "        SELECT COUNT(*) INTO subqu FROM Bookings \n",
    "\t\t\tWHERE BookingID = booking_id;\n",
    "        IF subqu = 1 THEN\n",
    "            DELETE FROM Bookings WHERE BookingID = booking_id;\n",
    "\t\t\tSELECT CONCAT('Booking ', booking_id , ' cancelled') AS 'Confirmation';\n",
    "        ELSE\n",
    "\t\t\tSELECT CONCAT('Booking ', booking_id , ' does not exist') AS 'Confirmation';\n",
    "        END IF;\n",
    "    END\n",
    "\"\"\"\n",
    "# Execute the query\n",
    "cursor.execute(CancelBooking)\n",
    "\n",
    "# Calling the store procedure\n",
    "cursor.callproc('CancelBooking', (1,))\n",
    "\n",
    "# Rretrieving records in a dataset\n",
    "results = next(cursor.stored_results())\n",
    "dataset = results.fetchall()\n",
    "\n",
    "# Retrieve column names using list comprehension in a 'for' loop \n",
    "for column_id in cursor.stored_results():\n",
    "    columns = [ column[0] for column in column_id.description ]\n",
    "\n",
    "# Print column names\n",
    "print(columns)\n",
    "\n",
    "# Print data\n",
    "for data in dataset:\n",
    "    print(data)\n"
   ]
  },
  {
   "cell_type": "code",
   "execution_count": 75,
   "id": "7587a150",
   "metadata": {},
   "outputs": [
    {
     "name": "stdout",
     "output_type": "stream",
     "text": [
      "['Confirmation']\n",
      "('Booking 6 does not exist',)\n"
     ]
    }
   ],
   "source": [
    "# Now if we try with a booking that doesn't exist\n",
    "cursor.callproc('CancelBooking', (6,))\n",
    "\n",
    "# Rretrieving records in a dataset\n",
    "results = next(cursor.stored_results())\n",
    "dataset = results.fetchall()\n",
    "\n",
    "# Retrieve column names using list comprehension in a 'for' loop \n",
    "for column_id in cursor.stored_results():\n",
    "    columns = [ column[0] for column in column_id.description ]\n",
    "\n",
    "# Print column names\n",
    "print(columns)\n",
    "\n",
    "# Print data\n",
    "for data in dataset:\n",
    "    print(data)"
   ]
  },
  {
   "cell_type": "code",
   "execution_count": 76,
   "id": "7eb01360",
   "metadata": {},
   "outputs": [
    {
     "data": {
      "text/plain": [
       "'Closing the Cursor'"
      ]
     },
     "execution_count": 76,
     "metadata": {},
     "output_type": "execute_result"
    }
   ],
   "source": [
    "\"\"\"Closing the Cursor\"\"\""
   ]
  },
  {
   "cell_type": "code",
   "execution_count": 77,
   "id": "cdcee2a0",
   "metadata": {},
   "outputs": [
    {
     "name": "stdout",
     "output_type": "stream",
     "text": [
      "connection is about to close \n",
      "The cursor is closed\n",
      "The connection is closed\n"
     ]
    }
   ],
   "source": [
    "print(\"connection is about to close \")    \n",
    "if connection.is_connected():\n",
    "    cursor.close()\n",
    "    print(\"The cursor is closed\")\n",
    "    connection.close()\n",
    "    print(\"The connection is closed\")\n",
    "else:\n",
    "    print(\"connection is already closed\")"
   ]
  },
  {
   "cell_type": "code",
   "execution_count": null,
   "id": "78c67218",
   "metadata": {},
   "outputs": [],
   "source": []
  }
 ],
 "metadata": {
  "kernelspec": {
   "display_name": "Python 3 (ipykernel)",
   "language": "python",
   "name": "python3"
  },
  "language_info": {
   "codemirror_mode": {
    "name": "ipython",
    "version": 3
   },
   "file_extension": ".py",
   "mimetype": "text/x-python",
   "name": "python",
   "nbconvert_exporter": "python",
   "pygments_lexer": "ipython3",
   "version": "3.10.4"
  }
 },
 "nbformat": 4,
 "nbformat_minor": 5
}
